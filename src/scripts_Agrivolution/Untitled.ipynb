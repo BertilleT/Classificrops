{
 "cells": [
  {
   "cell_type": "code",
   "execution_count": 4,
   "id": "ca509534",
   "metadata": {},
   "outputs": [],
   "source": [
    "import pandas as pd\n",
    "import geopandas as gpd\n",
    "import matplotlib.pyplot as plt"
   ]
  },
  {
   "cell_type": "code",
   "execution_count": 5,
   "id": "42e6f598",
   "metadata": {},
   "outputs": [
    {
     "name": "stdout",
     "output_type": "stream",
     "text": [
      "        code broader                           label_en\n",
      "0          1     NaN                            Cereals\n",
      "1       1.01       1                              Wheat\n",
      "2       1.02       1                              Maize\n",
      "3       1.03       1                               Rice\n",
      "4       1.04       1                            Sorghum\n",
      "..       ...     ...                                ...\n",
      "191  9.05.02    9.05             Permanent flower crops\n",
      "192     9.06       9                            Tobacco\n",
      "193      9.9       9                Other crops, n.e.c.\n",
      "194  9.90.01     9.9  Other crops, n.e.c. â temporary\n",
      "195  9.90.02     9.9  Other crops, n.e.c. â permanent\n",
      "\n",
      "[196 rows x 3 columns]\n",
      "{'1.01': 'Wheat', '1.02': 'Maize', '1.03': 'Rice', '1.04': 'Sorghum', '1.05': 'Barley', '1.06': 'Rye', '1.07': 'Oats', '1.08': 'Millet', '1.09': 'Triticale', '1.1': 'Buckwheat', '1.11': 'Fonio', '1.12': 'Quinoa', '1.13': 'Canary seed', '1.14': 'Mixed cereals', '1.9': 'Other cereals, n.e.c.', '2.01': 'Leafy or stem vegetables', '2.02': 'Fruit-bearing vegetables', '2.03': 'Root, bulb or tuberous vegetables', '2.04': 'Mushrooms and truffles', '2.05': 'Melons', '2.9': 'Other vegetables n.e.c.', '3.01': 'Tropical and subtropical fruits', '3.02': 'Citrus fruits', '3.03': 'Grapes', '3.04': 'Berries', '3.05': 'Pome fruits and stone fruits', '3.06': 'Nuts', '3.9': 'Other fruits, n.e.c.', '4.01': 'Soya beans', '4.02': 'Groundnuts', '4.03': 'Other temporary oilseed crops', '4.04': 'Permanent oilseed crops', '5.01': 'Potatoes', '5.02': 'Sweet potatoes', '5.03': 'Cassava', '5.04': 'Yams', '5.05': 'Taro', '5.06': 'Yautia', '5.9': 'Other roots and tubers, n.e.c.', '6.01': 'Stimulant crops', '6.02': 'Spice and aromatic crops', '7.01': 'Beans', '7.02': 'Broad beans', '7.03': 'Chickpeas', '7.04': 'Cowpeas', '7.05': 'Lentils', '7.06': 'Lupins', '7.07': 'Peas', '7.08': 'Pigeon peas', '7.09': 'Bambara beans', '7.1': 'Vetches', '7.9': 'Leguminous crops, n.e.c.', '8.01': 'Sugar beet', '8.02': 'Sugar cane', '8.03': 'Sweet sorghum', '8.9': 'Other sugar crops, n.e.c.', '9.01': 'Grasses and other fodder crops', '9.02': 'Fibre crops', '9.03': 'Medicinal, pesticidal or similar crops', '9.04': 'Rubber', '9.05': 'Flower crops', '9.06': 'Tobacco', '9.9': 'Other crops, n.e.c.'}\n"
     ]
    },
    {
     "name": "stderr",
     "output_type": "stream",
     "text": [
      "/tmp/ipykernel_29179/4203158899.py:6: SettingWithCopyWarning: \n",
      "A value is trying to be set on a copy of a slice from a DataFrame\n",
      "\n",
      "See the caveats in the documentation: https://pandas.pydata.org/pandas-docs/stable/user_guide/indexing.html#returning-a-view-versus-a-copy\n",
      "  LEVEL_0.drop(['broader'],axis=1,inplace=True)\n",
      "/tmp/ipykernel_29179/4203158899.py:12: SettingWithCopyWarning: \n",
      "A value is trying to be set on a copy of a slice from a DataFrame\n",
      "\n",
      "See the caveats in the documentation: https://pandas.pydata.org/pandas-docs/stable/user_guide/indexing.html#returning-a-view-versus-a-copy\n",
      "  LEVEL_1.drop(['broader'],axis=1,inplace=True)\n"
     ]
    },
    {
     "ename": "NameError",
     "evalue": "name 'df_icc_2' is not defined",
     "output_type": "error",
     "traceback": [
      "\u001b[0;31m---------------------------------------------------------------------------\u001b[0m",
      "\u001b[0;31mNameError\u001b[0m                                 Traceback (most recent call last)",
      "Input \u001b[0;32mIn [5]\u001b[0m, in \u001b[0;36m<cell line: 21>\u001b[0;34m()\u001b[0m\n\u001b[1;32m     18\u001b[0m string \u001b[38;5;241m=\u001b[39m \u001b[38;5;124m'\u001b[39m\u001b[38;5;124m, \u001b[39m\u001b[38;5;124m'\u001b[39m\u001b[38;5;241m.\u001b[39mjoin(other_detailed\u001b[38;5;241m.\u001b[39mlabel_en)\n\u001b[1;32m     20\u001b[0m fig, (ax1,ax2) \u001b[38;5;241m=\u001b[39m plt\u001b[38;5;241m.\u001b[39msubplots(\u001b[38;5;241m1\u001b[39m,\u001b[38;5;241m2\u001b[39m,figsize\u001b[38;5;241m=\u001b[39m(\u001b[38;5;241m20\u001b[39m,\u001b[38;5;241m10\u001b[39m))\n\u001b[0;32m---> 21\u001b[0m ax1\u001b[38;5;241m.\u001b[39mpie(\u001b[43mdf_icc_2\u001b[49m[\u001b[38;5;124m'\u001b[39m\u001b[38;5;124mper\u001b[39m\u001b[38;5;124m'\u001b[39m], autopct\u001b[38;5;241m=\u001b[39mautopct) \u001b[38;5;66;03m#plot first pie\u001b[39;00m\n\u001b[1;32m     23\u001b[0m ax2\u001b[38;5;241m.\u001b[39mpie(df_icc_3[\u001b[38;5;124m'\u001b[39m\u001b[38;5;124mper\u001b[39m\u001b[38;5;124m'\u001b[39m], autopct\u001b[38;5;241m=\u001b[39mautopct) \u001b[38;5;66;03m#plot second pie\u001b[39;00m\n\u001b[1;32m     25\u001b[0m ax1\u001b[38;5;241m.\u001b[39mset_title(\u001b[38;5;124m'\u001b[39m\u001b[38;5;124mPyrénées-Orientales\u001b[39m\u001b[38;5;124m'\u001b[39m)\n",
      "\u001b[0;31mNameError\u001b[0m: name 'df_icc_2' is not defined"
     ]
    },
    {
     "data": {
      "image/png": "[encoded data removed]",
      "text/plain": [
       "<Figure size 1440x720 with 2 Axes>"
      ]
     },
     "metadata": {
      "needs_background": "light"
     },
     "output_type": "display_data"
    }
   ],
   "source": [
    "icc_df = pd.read_csv(\"/home/BTemple-Boyer-Dury/Documents/Classificrops/data/ICC/ICC_src.csv\", encoding= 'unicode_escape')\n",
    "icc_df['code'] = icc_df['code'].astype('str')\n",
    "print(icc_df)\n",
    "mask_0 = (icc_df['code'].str.len() == 1)\n",
    "LEVEL_0 = icc_df.loc[mask_0]\n",
    "LEVEL_0.drop(['broader'],axis=1,inplace=True)\n",
    "LEVEL_0.set_index('code', inplace = True)\n",
    "d_icc_0 = LEVEL_0.to_dict('dict')\n",
    "group_dict_icc_0 = d_icc_0['label_en']\n",
    "mask_1 = (icc_df['broader'].str.len() == 1)\n",
    "LEVEL_1 = icc_df.loc[mask_1]\n",
    "LEVEL_1.drop(['broader'],axis=1,inplace=True)\n",
    "LEVEL_1.set_index('code', inplace = True)\n",
    "d_icc_1 = LEVEL_1.to_dict('dict')\n",
    "group_dict_icc_1 = d_icc_1['label_en']\n",
    "print(group_dict_icc_1)\n",
    "other_detailed = LEVEL_1.iloc[lambda x: x.index.str[:1] == '9']\n",
    "string = ', '.join(other_detailed.label_en)\n",
    "\n",
    "fig, (ax1,ax2) = plt.subplots(1,2,figsize=(20,10))\n",
    "ax1.pie(df_icc_2['per'], autopct=autopct) #plot first pie\n",
    "\n",
    "ax2.pie(df_icc_3['per'], autopct=autopct) #plot second pie\n",
    "\n",
    "ax1.set_title('Pyrénées-Orientales')\n",
    "ax2.set_title('Girona')\n",
    "#if df_icc_2.loc[ 'Other crops' ,'per'] > 10 or df_icc_3.loc[ 'Other crops' ,'per'] > 10:\n",
    "#    df_icc_2.rename(index = lambda x: x + ' : ' + string if x == 'Other crops' else x, inplace=True)\n",
    "fig.legend(df_icc_2.index, loc=8, title = \"ICC classification\")\n",
    "#if df_icc_2['per']"
   ]
  },
  {
   "cell_type": "code",
   "execution_count": null,
   "id": "924950e5",
   "metadata": {},
   "outputs": [],
   "source": []
  }
 ],
 "metadata": {
  "kernelspec": {
   "display_name": "Python 3 (ipykernel)",
   "language": "python",
   "name": "python3"
  },
  "language_info": {
   "codemirror_mode": {
    "name": "ipython",
    "version": 3
   },
   "file_extension": ".py",
   "mimetype": "text/x-python",
   "name": "python",
   "nbconvert_exporter": "python",
   "pygments_lexer": "ipython3",
   "version": "3.10.4"
  }
 },
 "nbformat": 4,
 "nbformat_minor": 5
}
