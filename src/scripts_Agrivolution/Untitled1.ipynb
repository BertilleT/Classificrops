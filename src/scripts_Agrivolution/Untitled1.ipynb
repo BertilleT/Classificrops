{
 "cells": [
  {
   "cell_type": "markdown",
   "id": "e98da394",
   "metadata": {},
   "source": [
    "# Evolution"
   ]
  },
  {
   "cell_type": "code",
   "execution_count": 2,
   "id": "df98d4b9",
   "metadata": {},
   "outputs": [],
   "source": [
    "import geopandas as gpd"
   ]
  },
  {
   "cell_type": "code",
   "execution_count": 4,
   "id": "3a13c97a",
   "metadata": {},
   "outputs": [],
   "source": [
    "Occitania_2017 = gpd.read_file(\"/home/BTemple-Boyer-Dury/Documents/Agrivolution/data/shp/RPG_2-0__SHP_LAMB93_R76-2017_2017-01-01.7z/PARCELLES_GRAPHIQUES.shp\")"
   ]
  },
  {
   "cell_type": "code",
   "execution_count": 5,
   "id": "c3c440ce",
   "metadata": {},
   "outputs": [],
   "source": [
    "Occitania_2018 = gpd.read_file(\"/home/BTemple-Boyer-Dury/Documents/Agrivolution/data/shp/RPG_2-0__SHP_LAMB93_R76-2018_2018-01-15.7z/PARCELLES_GRAPHIQUES.shp\")"
   ]
  },
  {
   "cell_type": "code",
   "execution_count": 6,
   "id": "2d95d758",
   "metadata": {},
   "outputs": [],
   "source": [
    "Occitania_2019 = gpd.read_file(\"/home/BTemple-Boyer-Dury/Documents/Agrivolution/data/shp/RPG_2-0__SHP_LAMB93_R76-2019_2019-01-15/PARCELLES_GRAPHIQUES.shp\")"
   ]
  },
  {
   "cell_type": "code",
   "execution_count": 7,
   "id": "3f2ba751",
   "metadata": {},
   "outputs": [],
   "source": [
    "Occitania_2020 = gpd.read_file(\"/home/BTemple-Boyer-Dury/Documents/Agrivolution/data/shp/RPG_2-0_SHP_LAMB93_R76_2020/PARCELLES_GRAPHIQUES.shp\")"
   ]
  },
  {
   "cell_type": "code",
   "execution_count": null,
   "id": "3bc7559c",
   "metadata": {},
   "outputs": [],
   "source": [
    "my_list=[]\n",
    "for df in [Occitania_2015, Occitania_2016, Occitania_2017, Occitania_2018]:\n",
    "    guarrigue = df.loc[df.loc[:,\"CODE_GROUP\"]==\"17\"]\n",
    "    surf_guarrigue = guarrigue[\"SURF_PARC\"].sum()\n",
    "    print(surf_guarrigue)\n",
    "    my_list.append(surf_guarrigue)\n",
    "guarrigue_2015_2018\n",
    "plt.plot([2015,2016,2017,2018],my_list)"
   ]
  },
  {
   "cell_type": "code",
   "execution_count": null,
   "id": "063de59a",
   "metadata": {},
   "outputs": [],
   "source": []
  }
 ],
 "metadata": {
  "kernelspec": {
   "display_name": "Python 3 (ipykernel)",
   "language": "python",
   "name": "python3"
  },
  "language_info": {
   "codemirror_mode": {
    "name": "ipython",
    "version": 3
   },
   "file_extension": ".py",
   "mimetype": "text/x-python",
   "name": "python",
   "nbconvert_exporter": "python",
   "pygments_lexer": "ipython3",
   "version": "3.10.4"
  }
 },
 "nbformat": 4,
 "nbformat_minor": 5
}
