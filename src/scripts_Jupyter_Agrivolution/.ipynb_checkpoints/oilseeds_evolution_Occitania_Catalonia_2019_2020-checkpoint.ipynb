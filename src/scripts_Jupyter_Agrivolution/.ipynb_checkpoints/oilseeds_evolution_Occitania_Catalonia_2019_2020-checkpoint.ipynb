{
 "cells": [
  {
   "cell_type": "markdown",
   "id": "ccbee0fd",
   "metadata": {},
   "source": [
    "# Evolution"
   ]
  },
  {
   "cell_type": "code",
   "execution_count": 1,
   "id": "82c0e8b0",
   "metadata": {},
   "outputs": [],
   "source": [
    "import pandas as pd\n",
    "import geopandas as gpd\n",
    "import matplotlib.pyplot as plt\n",
    "import numpy as np"
   ]
  },
  {
   "cell_type": "code",
   "execution_count": null,
   "id": "b397f7f1",
   "metadata": {},
   "outputs": [],
   "source": [
    "#takes too much time\n",
    "#Occitania_2017 = gpd.read_file(\"/home/BTemple-Boyer-Dury/Documents/Agrivolution/data/shp/RPG_2-0__SHP_LAMB93_R76-2017_2017-01-01.7z/PARCELLES_GRAPHIQUES.shp\")\n",
    "#Occitania_2018 = gpd.read_file(\"/home/BTemple-Boyer-Dury/Documents/Agrivolution/data/shp/RPG_2-0__SHP_LAMB93_R76-2018_2018-01-15.7z/PARCELLES_GRAPHIQUES.shp\")\n",
    "#Occitania_2019 = gpd.read_file(\"/home/BTemple-Boyer-Dury/Documents/Agrivolution/data/shp/RPG_2-0__SHP_LAMB93_R76-2019_2019-01-15/PARCELLES_GRAPHIQUES.shp\")\n",
    "#Occitania_2020 = gpd.read_file(\"/home/BTemple-Boyer-Dury/Documents/Agrivolution/data/shp/RPG_2-0_SHP_LAMB93_R76_2020/PARCELLES_GRAPHIQUES.shp\")\n",
    "\n",
    "#Catalunya_2017 = gpd.read_file(\"/home/BTemple-Boyer-Dury/Documents/Agrivolution/data/shp/Cultius_DUN2017_SHP/Cultius_DUN2017.shp\")\n",
    "#Catalunya_2018 = gpd.read_file(\"/home/BTemple-Boyer-Dury/Documents/Agrivolution/data/shp/Cultius_DUN2018/Cultius_DUN2018.shp\")\n",
    "#Catalunya_2019 = gpd.read_file(\"/home/BTemple-Boyer-Dury/Documents/Agrivolution/data/shp/Cultius_DUN2019/Cultius_DUN2019.shp\")\n",
    "#Catalunya_2020 = gpd.read_file(\"/home/BTemple-Boyer-Dury/Documents/Agrivolution/data/shp/Cultius_DUN2020_SHP/Cultius_DUN2020.shp\")"
   ]
  },
  {
   "cell_type": "code",
   "execution_count": null,
   "id": "26b44f03",
   "metadata": {},
   "outputs": [],
   "source": [
    "Occitania_2019_path = input(\"path toward Occitania LPIS data from 2019 ?\")\n",
    "Occitania_2020_path = input(\"path toward Occitania LPIS data from 2020 ?\")\n",
    "Catalunya_2019_path = input(\"path toward Catalunya LPIS data from 2019 ?\")\n",
    "Catalunya_2020_path = input(\"path toward Catalunya LPIS data from 2020 ?\")\n",
    "#Occitania_2019 = gpd.read_file(\"/home/BTemple-Boyer-Dury/Documents/Agrivolution/data/shp/RPG_2-0__SHP_LAMB93_R76-2019_2019-01-15/PARCELLES_GRAPHIQUES.shp\")\n",
    "#Occitania_2020 = gpd.read_file(\"/home/BTemple-Boyer-Dury/Documents/Agrivolution/data/shp/RPG_2-0_SHP_LAMB93_R76_2020/PARCELLES_GRAPHIQUES.shp\")\n",
    "#Catalunya_2019 = gpd.read_file(\"/home/BTemple-Boyer-Dury/Documents/Agrivolution/data/shp/Cultius_DUN2019/Cultius_DUN2019.shp\")\n",
    "#Catalunya_2020 = gpd.read_file(\"/home/BTemple-Boyer-Dury/Documents/Agrivolution/data/shp/Cultius_DUN2020_SHP/Cultius_DUN2020.shp\")\n",
    "Occitania_2019 = gpd.read_file(Occitania_2019_path)\n",
    "Occitania_2020 = gpd.read_file(Occitania_2020_path)\n",
    "Catalunya_2019 = gpd.read_file(Catalunya_2019_path)\n",
    "Catalunya_2020 = gpd.read_file(Catalunya_2020_path)"
   ]
  },
  {
   "cell_type": "code",
   "execution_count": 4,
   "id": "f0e74b67",
   "metadata": {},
   "outputs": [
    {
     "name": "stdout",
     "output_type": "stream",
     "text": [
      "{2017: 900419.4800000001, 2018: 904630.55, 2019: 920344.78, 2020: 927446.9400000001}\n"
     ]
    },
    {
     "data": {
      "image/png": "[encoded data removed]",
      "text/plain": [
       "<Figure size 432x288 with 1 Axes>"
      ]
     },
     "metadata": {
      "needs_background": "light"
     },
     "output_type": "display_data"
    }
   ],
   "source": [
    "evol_OCC={}\n",
    "guarrigue_2017 = Occitania_2017.loc[Occitania_2017.loc[:,\"CODE_GROUP\"]==\"17\"]\n",
    "surf_guarrigue_2017 = guarrigue_2017[\"SURF_PARC\"].sum()\n",
    "evol_OCC[2017] = surf_guarrigue_2017\n",
    "\n",
    "guarrigue_2018 = Occitania_2018.loc[Occitania_2018.loc[:,\"CODE_GROUP\"]==\"17\"]\n",
    "surf_guarrigue_2018 = guarrigue_2018[\"SURF_PARC\"].sum()\n",
    "evol_OCC[2018] = surf_guarrigue_2018\n",
    "\n",
    "guarrigue_2019 = Occitania_2019.loc[Occitania_2019.loc[:,\"CODE_GROUP\"]==\"17\"]\n",
    "surf_guarrigue_2019 = guarrigue_2019[\"SURF_PARC\"].sum()\n",
    "evol_OCC[2019] = surf_guarrigue_2019\n",
    "\n",
    "guarrigue_2020 = Occitania_2020.loc[Occitania_2020.loc[:,\"CODE_GROUP\"]==\"17\"]\n",
    "surf_guarrigue_2020 = guarrigue_2020[\"SURF_PARC\"].sum()\n",
    "evol_OCC[2020] = surf_guarrigue_2020\n",
    "\n",
    "print(evol_OCC)\n",
    "lists = sorted(evol_OCC.items()) # sorted by key, return a list of tuples\n",
    "\n",
    "x, y = zip(*lists) # unpack a list of pairs into two tuples\n",
    "\n",
    "plt.plot(x, y)\n",
    "plt.show()"
   ]
  },
  {
   "cell_type": "code",
   "execution_count": 4,
   "id": "6e85eb72",
   "metadata": {},
   "outputs": [
    {
     "name": "stderr",
     "output_type": "stream",
     "text": [
      "/tmp/ipykernel_3097/2241554060.py:6: SettingWithCopyWarning: \n",
      "A value is trying to be set on a copy of a slice from a DataFrame\n",
      "\n",
      "See the caveats in the documentation: https://pandas.pydata.org/pandas-docs/stable/user_guide/indexing.html#returning-a-view-versus-a-copy\n",
      "  LEVEL_0.drop(['broader'],axis=1,inplace=True)\n"
     ]
    }
   ],
   "source": [
    "icc_df = pd.read_csv(\"../../data/ICC/ICC_src.csv\", encoding= 'unicode_escape')\n",
    "icc_df['code'] = icc_df['code'].astype('str')\n",
    "\n",
    "mask_0 = (icc_df['code'].str.len() == 1)\n",
    "LEVEL_0 = icc_df.loc[mask_0]\n",
    "LEVEL_0.drop(['broader'],axis=1,inplace=True)\n",
    "LEVEL_0.set_index('code', inplace = True)\n",
    "d_icc_0 = LEVEL_0.to_dict('dict')\n",
    "group_dict_icc_0 = d_icc_0['label_en']"
   ]
  },
  {
   "cell_type": "code",
   "execution_count": 4,
   "id": "fdc6d2bb",
   "metadata": {},
   "outputs": [],
   "source": [
    "conversion_fr_icc = pd.read_csv(\"../../data/FR/handmade_Nicolas_light.csv\", encoding= 'unicode_escape')\n",
    "conversion_fr_icc['ID_GROUP_ICC'] = conversion_fr_icc['ICC1.1'].str[:1]\n",
    "conversion_fr_icc.drop(['ICC1.1'],axis=1, inplace=True)\n",
    "conversion_fr_icc.rename(columns = {'ID_CROPS_FR':'CODE_CULTU'}, inplace=True)"
   ]
  },
  {
   "cell_type": "code",
   "execution_count": 6,
   "id": "3bd37bb9",
   "metadata": {},
   "outputs": [
    {
     "data": {
      "text/html": [
       "<div>\n",
       "<style scoped>\n",
       "    .dataframe tbody tr th:only-of-type {\n",
       "        vertical-align: middle;\n",
       "    }\n",
       "\n",
       "    .dataframe tbody tr th {\n",
       "        vertical-align: top;\n",
       "    }\n",
       "\n",
       "    .dataframe thead th {\n",
       "        text-align: right;\n",
       "    }\n",
       "</style>\n",
       "<table border=\"1\" class=\"dataframe\">\n",
       "  <thead>\n",
       "    <tr style=\"text-align: right;\">\n",
       "      <th></th>\n",
       "      <th>ID_GROUP_ICC</th>\n",
       "      <th>SURF_PARC</th>\n",
       "    </tr>\n",
       "  </thead>\n",
       "  <tbody>\n",
       "    <tr>\n",
       "      <th>0</th>\n",
       "      <td>9</td>\n",
       "      <td>0.06</td>\n",
       "    </tr>\n",
       "    <tr>\n",
       "      <th>1</th>\n",
       "      <td>9</td>\n",
       "      <td>4.66</td>\n",
       "    </tr>\n",
       "    <tr>\n",
       "      <th>2</th>\n",
       "      <td>9</td>\n",
       "      <td>3.51</td>\n",
       "    </tr>\n",
       "    <tr>\n",
       "      <th>3</th>\n",
       "      <td>9</td>\n",
       "      <td>4.94</td>\n",
       "    </tr>\n",
       "    <tr>\n",
       "      <th>4</th>\n",
       "      <td>9</td>\n",
       "      <td>2.80</td>\n",
       "    </tr>\n",
       "    <tr>\n",
       "      <th>...</th>\n",
       "      <td>...</td>\n",
       "      <td>...</td>\n",
       "    </tr>\n",
       "    <tr>\n",
       "      <th>1602492</th>\n",
       "      <td>#</td>\n",
       "      <td>0.01</td>\n",
       "    </tr>\n",
       "    <tr>\n",
       "      <th>1602493</th>\n",
       "      <td>9</td>\n",
       "      <td>1.34</td>\n",
       "    </tr>\n",
       "    <tr>\n",
       "      <th>1602494</th>\n",
       "      <td>9</td>\n",
       "      <td>0.60</td>\n",
       "    </tr>\n",
       "    <tr>\n",
       "      <th>1602495</th>\n",
       "      <td>9</td>\n",
       "      <td>1.47</td>\n",
       "    </tr>\n",
       "    <tr>\n",
       "      <th>1602496</th>\n",
       "      <td>4</td>\n",
       "      <td>0.34</td>\n",
       "    </tr>\n",
       "  </tbody>\n",
       "</table>\n",
       "<p>1602497 rows × 2 columns</p>\n",
       "</div>"
      ],
      "text/plain": [
       "        ID_GROUP_ICC  SURF_PARC\n",
       "0                  9       0.06\n",
       "1                  9       4.66\n",
       "2                  9       3.51\n",
       "3                  9       4.94\n",
       "4                  9       2.80\n",
       "...              ...        ...\n",
       "1602492            #       0.01\n",
       "1602493            9       1.34\n",
       "1602494            9       0.60\n",
       "1602495            9       1.47\n",
       "1602496            4       0.34\n",
       "\n",
       "[1602497 rows x 2 columns]"
      ]
     },
     "execution_count": 6,
     "metadata": {},
     "output_type": "execute_result"
    }
   ],
   "source": [
    "Occ_2019_icc_merged = Occitania_2019.merge(conversion_fr_icc, how='left', on='CODE_CULTU')\n",
    "Occ_2019_icc = Occ_2019_icc_merged[['ID_GROUP_ICC', 'SURF_PARC']]\n",
    "Occ_2019_icc\n",
    "\n",
    "Occ_2020_icc_merged = Occitania_2020.merge(conversion_fr_icc, how='left', on='CODE_CULTU')\n",
    "Occ_2020_icc = Occ_2020_icc_merged[['ID_GROUP_ICC', 'SURF_PARC']]\n",
    "Occ_2020_icc"
   ]
  },
  {
   "cell_type": "code",
   "execution_count": 7,
   "id": "d418980f",
   "metadata": {},
   "outputs": [
    {
     "data": {
      "text/plain": [
       "{2019: 7.537146022817698, 2020: 8.544824312180495}"
      ]
     },
     "execution_count": 7,
     "metadata": {},
     "output_type": "execute_result"
    }
   ],
   "source": [
    "evol_OCC = {}\n",
    "surf_tot_occ_2019 = Occ_2019_icc[\"SURF_PARC\"].sum()\n",
    "oil_occ_2019 = Occ_2019_icc.loc[Occ_2019_icc.loc[:,\"ID_GROUP_ICC\"]==\"4\"]\n",
    "surf_oil_occ_2019 = oil_occ_2019[\"SURF_PARC\"].sum()\n",
    "evol_OCC[2019] = (surf_oil_occ_2019*100)/surf_tot_occ_2019\n",
    "\n",
    "surf_tot_occ_2020 = Occ_2020_icc[\"SURF_PARC\"].sum()\n",
    "oil_occ_2020 = Occ_2020_icc.loc[Occ_2020_icc.loc[:,\"ID_GROUP_ICC\"]==\"4\"]\n",
    "surf_oil_occ_2020 = oil_occ_2020[\"SURF_PARC\"].sum()\n",
    "evol_OCC[2020] = (surf_oil_occ_2020*100)/surf_tot_occ_2020\n",
    "\n",
    "evol_OCC"
   ]
  },
  {
   "cell_type": "code",
   "execution_count": 8,
   "id": "0c165f5f",
   "metadata": {},
   "outputs": [],
   "source": [
    "conversion_cat_icc = pd.read_csv(\"../../data/CAT/handmade_Nicolas_light.csv\", encoding= 'unicode_escape')\n",
    "conversion_cat_icc['ID_GROUP_ICC'] = conversion_cat_icc['ICC1.1'].str[:1]\n",
    "conversion_cat_icc.drop(['ICC1.1'],axis=1, inplace=True)\n",
    "conversion_cat_icc.rename(columns = {'ID_CROPS_CAT':'Cultiu'}, inplace=True)"
   ]
  },
  {
   "cell_type": "code",
   "execution_count": 9,
   "id": "07bf064f",
   "metadata": {},
   "outputs": [],
   "source": [
    "Catalunya_2019['Cultiu'] = Catalunya_2019['Cultiu'].str.lower()\n",
    "Cat_2019_icc = Catalunya_2019.merge(conversion_cat_icc, how='left', on='Cultiu')\n",
    "Cat_2019_icc.rename(columns={'HA':'SURF_PARC'},inplace=True)\n",
    "Cat_2019_icc = Cat_2019_icc[['ID_GROUP_ICC', 'SURF_PARC']]\n",
    "\n",
    "\n",
    "Catalunya_2020['Cultiu'] = Catalunya_2020['Cultiu'].str.lower()\n",
    "Cat_2020_icc = Catalunya_2020.merge(conversion_cat_icc, how='left', on='Cultiu')\n",
    "Cat_2020_icc.rename(columns={'HA':'SURF_PARC'},inplace=True)\n",
    "Cat_2020_icc = Cat_2020_icc[['ID_GROUP_ICC', 'SURF_PARC']]"
   ]
  },
  {
   "cell_type": "code",
   "execution_count": 10,
   "id": "3646f426",
   "metadata": {},
   "outputs": [
    {
     "data": {
      "text/plain": [
       "{2019: 13.823208351844992, 2020: 13.951333580656291}"
      ]
     },
     "execution_count": 10,
     "metadata": {},
     "output_type": "execute_result"
    }
   ],
   "source": [
    "evol_CAT = {}\n",
    "surf_tot_cat_2019 = Cat_2019_icc[\"SURF_PARC\"].sum()\n",
    "oil_cat_2019 = Cat_2019_icc.loc[Cat_2019_icc.loc[:,\"ID_GROUP_ICC\"]==\"4\"]\n",
    "surf_oil_cat_2019 = oil_cat_2019[\"SURF_PARC\"].sum()\n",
    "evol_CAT[2019] = (surf_oil_cat_2019*100)/surf_tot_cat_2019\n",
    "\n",
    "surf_tot_cat_2020 = Cat_2020_icc[\"SURF_PARC\"].sum()\n",
    "oil_cat_2020 = Cat_2020_icc.loc[Cat_2020_icc.loc[:,\"ID_GROUP_ICC\"]==\"4\"]\n",
    "surf_oil_cat_2020 = oil_cat_2020[\"SURF_PARC\"].sum()\n",
    "evol_CAT[2020] = (surf_oil_cat_2020*100)/surf_tot_cat_2020\n",
    "\n",
    "evol_CAT"
   ]
  },
  {
   "cell_type": "code",
   "execution_count": 19,
   "id": "826f4bf3",
   "metadata": {},
   "outputs": [
    {
     "data": {
      "text/plain": [
       "{'1': 'Cereals',\n",
       " '2': 'Vegetables and melons',\n",
       " '3': 'Fruit and nuts',\n",
       " '4': 'Oilseed crops and oleaginous fruits',\n",
       " '5': 'Root/tuber crops with high starch or inulin content',\n",
       " '6': 'Stimulant, spice and aromatic crops',\n",
       " '7': 'Leguminous crops',\n",
       " '8': 'Sugar crops',\n",
       " '9': 'Other crops',\n",
       " '#': 'no_match'}"
      ]
     },
     "execution_count": 19,
     "metadata": {},
     "output_type": "execute_result"
    }
   ],
   "source": [
    "group_dict_icc_0['#']='no_match'\n",
    "group_dict_icc_0"
   ]
  },
  {
   "cell_type": "code",
   "execution_count": 13,
   "id": "170c989c",
   "metadata": {},
   "outputs": [
    {
     "data": {
      "image/png": "[encoded data removed]",
      "text/plain": [
       "<Figure size 432x288 with 1 Axes>"
      ]
     },
     "metadata": {
      "needs_background": "light"
     },
     "output_type": "display_data"
    }
   ],
   "source": [
    "X = ['2019','2020']\n",
    "Occ = [evol_OCC[2019], evol_OCC[2020]]\n",
    "Cat = [evol_CAT[2019], evol_CAT[2020]]\n",
    "  \n",
    "X_axis = np.arange(len(X))\n",
    "  \n",
    "plt.bar(X_axis - 0.2, Occ, 0.4, label = 'Occitania')\n",
    "plt.bar(X_axis + 0.2, Cat, 0.4, label = 'Catalunya')\n",
    "  \n",
    "plt.xticks(X_axis, X)\n",
    "plt.xlabel(\"Year\")\n",
    "plt.ylabel(\"Percentage of oilseed crops and oleaginous fruits of the whole croplands surface\")\n",
    "#plt.title(\"Compare evolution of oilseed crops surface between 2019 and 2020 in Catalunya and Occitania. \")\n",
    "plt.legend()\n",
    "plt.show()"
   ]
  },
  {
   "cell_type": "code",
   "execution_count": 19,
   "id": "dde04f2d",
   "metadata": {},
   "outputs": [
    {
     "name": "stdout",
     "output_type": "stream",
     "text": [
      "900419.4800000001\n",
      "904630.55\n",
      "920344.78\n",
      "927446.9400000001\n"
     ]
    },
    {
     "data": {
      "text/plain": [
       "[<matplotlib.lines.Line2D at 0x7f53440549a0>]"
      ]
     },
     "execution_count": 19,
     "metadata": {},
     "output_type": "execute_result"
    },
    {
     "data": {
      "image/png": "[encoded data removed]",
      "text/plain": [
       "<Figure size 432x288 with 1 Axes>"
      ]
     },
     "metadata": {
      "needs_background": "light"
     },
     "output_type": "display_data"
    }
   ],
   "source": [
    "#working\n",
    "my_list=[]\n",
    "for df in [Occitania_2017, Occitania_2018, Occitania_2019, Occitania_2020]:\n",
    "    guarrigue = df.loc[df.loc[:,\"CODE_GROUP\"]==\"17\"]\n",
    "    surf_guarrigue = guarrigue[\"SURF_PARC\"].sum()\n",
    "    print(surf_guarrigue)\n",
    "    my_list.append(surf_guarrigue)\n",
    "#guarrigue_2017_2020\n",
    "plt.plot([2017,2018,2019,2020],my_list)"
   ]
  }
 ],
 "metadata": {
  "kernelspec": {
   "display_name": "Python 3 (ipykernel)",
   "language": "python",
   "name": "python3"
  },
  "language_info": {
   "codemirror_mode": {
    "name": "ipython",
    "version": 3
   },
   "file_extension": ".py",
   "mimetype": "text/x-python",
   "name": "python",
   "nbconvert_exporter": "python",
   "pygments_lexer": "ipython3",
   "version": "3.10.4"
  }
 },
 "nbformat": 4,
 "nbformat_minor": 5
}
